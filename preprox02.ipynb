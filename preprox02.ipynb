{
 "cells": [
  {
   "cell_type": "code",
   "execution_count": 107,
   "metadata": {},
   "outputs": [
    {
     "name": "stdout",
     "output_type": "stream",
     "text": [
      "  1\t  2\t  3\t  4\t  5\t  6\t  7\t  8\t  9\t\n",
      "  2\t  4\t  6\t  8\t10\t12\t14\t16\t18\t\n",
      "  3\t  6\t  9\t12\t15\t18\t21\t24\t27\t\n",
      "  4\t  8\t12\t16\t20\t24\t28\t32\t36\t\n",
      "  5\t10\t15\t20\t25\t30\t35\t40\t45\t\n",
      "  6\t12\t18\t24\t30\t36\t42\t48\t54\t\n",
      "  7\t14\t21\t28\t35\t42\t49\t56\t63\t\n",
      "  8\t16\t24\t32\t40\t48\t56\t64\t72\t\n",
      "  9\t18\t27\t36\t45\t54\t63\t72\t81\t\n"
     ]
    }
   ],
   "source": [
    "for x in range(1,10):\n",
    "    for y in range(1,10):\n",
    "        if x*y<10: \n",
    "            print(\"{:3}\".format(x*y),end='\\t')\n",
    "        else:\n",
    "            print(x*y,end='\\t')\n",
    "            \n",
    "        if y==9:\n",
    "            print()\n"
   ]
  },
  {
   "cell_type": "code",
   "execution_count": null,
   "metadata": {},
   "outputs": [],
   "source": []
  },
  {
   "cell_type": "code",
   "execution_count": null,
   "metadata": {},
   "outputs": [],
   "source": []
  }
 ],
 "metadata": {
  "kernelspec": {
   "display_name": "Python 3",
   "language": "python",
   "name": "python3"
  },
  "language_info": {
   "codemirror_mode": {
    "name": "ipython",
    "version": 3
   },
   "file_extension": ".py",
   "mimetype": "text/x-python",
   "name": "python",
   "nbconvert_exporter": "python",
   "pygments_lexer": "ipython3",
   "version": "3.7.4"
  }
 },
 "nbformat": 4,
 "nbformat_minor": 2
}
