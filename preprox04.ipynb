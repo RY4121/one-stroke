{
 "cells": [
  {
   "cell_type": "code",
   "execution_count": 36,
   "metadata": {},
   "outputs": [],
   "source": [
    "import re"
   ]
  },
  {
   "cell_type": "code",
   "execution_count": 37,
   "metadata": {},
   "outputs": [
    {
     "name": "stdout",
     "output_type": "stream",
     "text": [
      "wonder\n",
      "wondered\n",
      "wonderful\n",
      "wondering\n",
      "wonderland\n"
     ]
    }
   ],
   "source": [
    "word_list = []\n",
    "par_chara_list = []\n",
    "with open('alice_in_wonderland.txt', 'r') as f:\n",
    "    for i in range(10):\n",
    "        next(f)\n",
    "\n",
    "    for line in f:\n",
    "        line = line.lower()\n",
    "        word_list.extend(line.split(' '))\n",
    "\n",
    "regex = re.compile('[^a-zA-Z]')\n",
    "for value in word_list:\n",
    "    value = regex.sub(' ', value)\n",
    "    value = value.replace(' ', '')\n",
    "\n",
    "    if 'wonder' in value:\n",
    "        par_chara_list.append(value)\n",
    "\n",
    "for x in sorted(set(par_chara_list)):\n",
    "    print(x)"
   ]
  },
  {
   "cell_type": "code",
   "execution_count": null,
   "metadata": {},
   "outputs": [],
   "source": []
  }
 ],
 "metadata": {
  "kernelspec": {
   "display_name": "Python 3",
   "language": "python",
   "name": "python3"
  },
  "language_info": {
   "codemirror_mode": {
    "name": "ipython",
    "version": 3
   },
   "file_extension": ".py",
   "mimetype": "text/x-python",
   "name": "python",
   "nbconvert_exporter": "python",
   "pygments_lexer": "ipython3",
   "version": "3.7.4"
  }
 },
 "nbformat": 4,
 "nbformat_minor": 2
}
